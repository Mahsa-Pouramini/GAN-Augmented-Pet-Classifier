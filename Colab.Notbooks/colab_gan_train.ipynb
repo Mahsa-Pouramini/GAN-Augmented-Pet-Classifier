{
 "cells": [
  {
   "cell_type": "markdown",
   "metadata": {
    "id": "9r4UQEzphrBC"
   },
   "source": [
    "<a href=\"https://colab.research.google.com/github/jeffheaton/present/blob/master/youtube/gan/colab_gan_train.ipynb\" target=\"_parent\"><img src=\"https://colab.research.google.com/assets/colab-badge.svg\" alt=\"Open In Colab\"/></a>"
   ]
  },
  {
   "cell_type": "markdown",
   "metadata": {
    "id": "_9qbVplkZYjp"
   },
   "source": [
    "Copyright 2021 by [Jeff Heaton](https://www.youtube.com/channel/UCR1-GEpyOPzT2AO4D_eifdw), [released under Apache 2.0 license](https://github.com/jeffheaton/present/blob/master/LICENSE)\n"
   ]
  },
  {
   "cell_type": "markdown",
   "metadata": {},
   "source": [
    "# Training StyleGAN2 on the not cropped dataset in Google CoLab  \n",
    "\n",
    "### Google Drive setups\n",
    "\n",
    "One of the main requirements for starting is google drive. We're going to use G-DRIVE to store our training data and trained neural networks. we built some folders with the path of follows:\n",
    "```\n",
    "content/drive/MyDrive/dogs/data/gan \n",
    "``` \n",
    "in gan's folder, we have three other folders, \"images\" for raw cropped images we want to train on. The \"datasets\" folder, the Actual training datasets that I convert from the raw images, and the \"experiments\" folder includes the output from StyleGAN2, the image previews, and saved network snapshots.\n",
    "\n",
    "### Managing GPU\n",
    "\n",
    "There are two options for training GANs with Google Colab, Google Colab Free or Pro. We will go with the pro one because it has advantages like better GPU, longer runtime, and timeouts, and most important, it will not disconnect before 24 hours. In using the free version of google colab, you should make sure that you run the notebook with GPU runtime. For doing this, go to \"Runtime\" in the bar and select the \"change the runtime type\" option. Then, put the Hardware accelerator on GPU and save it."
   ]
  },
  {
   "cell_type": "code",
   "execution_count": null,
   "metadata": {},
   "outputs": [],
   "source": [
    "!nvidia-smi"
   ]
  },
  {
   "cell_type": "markdown",
   "metadata": {
    "id": "wzWrFN_tGV-Y"
   },
   "source": [
    "### Steps of the code\n",
    "\n",
    "1) connecting Colab to G-DRIVE, to save the snapshots there"
   ]
  },
  {
   "cell_type": "code",
   "execution_count": 2,
   "metadata": {},
   "outputs": [
    {
     "name": "stdout",
     "output_type": "stream",
     "text": [
      "Note: not using Google CoLab\n"
     ]
    }
   ],
   "source": [
    "try:\n",
    "    from google.colab import drive\n",
    "    drive.mount('/content/drive', force_remount=True)\n",
    "    COLAB = True\n",
    "    print(\"Note: using Google CoLab\")\n",
    "except:\n",
    "    print(\"Note: not using Google CoLab\")\n",
    "    COLAB = False"
   ]
  },
  {
   "cell_type": "markdown",
   "metadata": {},
   "source": [
    "3) creating needful directories in GDRIVE"
   ]
  },
  {
   "cell_type": "code",
   "execution_count": null,
   "metadata": {},
   "outputs": [],
   "source": [
    "!mkdir drive/MyDrive/\n",
    "!mkdir drive/MyDrive/gan\n",
    "!mkdir drive/MyDrive/gan/images\n",
    "!mkdir drive/MyDrive/gan/dataset\n",
    "!mkdir drive/MyDrive/gan/experiments"
   ]
  },
  {
   "cell_type": "markdown",
   "metadata": {},
   "source": [
    "4) Download the dataset from the official site"
   ]
  },
  {
   "cell_type": "code",
   "execution_count": null,
   "metadata": {},
   "outputs": [],
   "source": [
    "!wget https://www.robots.ox.ac.uk/~vgg/data/pets/data/images.tar.gz"
   ]
  },
  {
   "cell_type": "markdown",
   "metadata": {},
   "source": [
    "5) Extract the images"
   ]
  },
  {
   "cell_type": "code",
   "execution_count": null,
   "metadata": {},
   "outputs": [],
   "source": [
    "!tar xvf  images.tar.gz -C drive/MyDrive/dogs/data/gan/"
   ]
  },
  {
   "cell_type": "code",
   "execution_count": null,
   "metadata": {},
   "outputs": [],
   "source": [
    "!mkdir drive/MyDrive/gan/image"
   ]
  },
  {
   "cell_type": "markdown",
   "metadata": {},
   "source": [
    "6) selecting a subset of the dataset. "
   ]
  },
  {
   "cell_type": "code",
   "execution_count": null,
   "metadata": {},
   "outputs": [],
   "source": [
    "import shutil\n",
    "import os\n",
    "\n",
    "source = \"drive/MyDrive/gan/images\"\n",
    "destination = \"drive/MyDrive/dogs/image\"\n",
    "percentage = None    #set this parameter according to your need\n",
    "files_list = os.listdir(source)\n",
    "lst = []\n",
    "for files in sorted(files_list):\n",
    "    x = files.rsplit('_', 1)[0]\n",
    "    lst.append(x)\n",
    "for l in list(set(lst)):\n",
    "    cnt = 0\n",
    "    for i in range(1, 100):\n",
    "    try:\n",
    "        shutil.copy(source + '/' + '{}_{}.jpg'.format(l, i), destination + '/' + '{}_{}.jpg'.format(l, i))\n",
    "        cnt += 1\n",
    "    except:\n",
    "        print('{}_{}.jpg'.format(l, i))\n",
    "    if cnt == 20:\n",
    "        print('selected [] images from [] category'.format(percentage, l))\n",
    "        break"
   ]
  },
  {
   "cell_type": "markdown",
   "metadata": {},
   "source": [
    "7) unzipping the training images in \"images\" folder"
   ]
  },
  {
   "cell_type": "code",
   "execution_count": null,
   "metadata": {},
   "outputs": [],
   "source": [
    "!unzip drive/MyDrive/images.zip -d drive/MyDrive/dogs/data/gan/images"
   ]
  },
  {
   "cell_type": "markdown",
   "metadata": {},
   "source": [
    "8) Number of total training images and establishig the exact path of images"
   ]
  },
  {
   "cell_type": "code",
   "execution_count": null,
   "metadata": {},
   "outputs": [],
   "source": [
    "!ls drive/MyDrive/dogs/data/gan/images | wc -l"
   ]
  },
  {
   "cell_type": "markdown",
   "metadata": {},
   "source": [
    "9) Installing NVIDIA StyleGAN2 ADA PyTorch"
   ]
  },
  {
   "cell_type": "code",
   "execution_count": null,
   "metadata": {},
   "outputs": [],
   "source": [
    "!git clone https://github.com/NVlabs/stylegan2-ada-pytorch.git\n",
    "!pip install ninja"
   ]
  },
  {
   "cell_type": "markdown",
   "metadata": {},
   "source": [
    "10) This code takes a python file and converts the first given path to tensors into the second given direction. We can face an error in this part in conditions like inconsistent types and variant sizes of images. We convert all the images into jpg type and resize them to 128 x 128 pixels."
   ]
  },
  {
   "cell_type": "markdown",
   "metadata": {},
   "source": [
    "!python /content/stylegan2-ada-pytorch/dataset_tool.py --source /content/drive/MyDrive/data/gan/images/circuit --dest /content/drive/MyDrive/data/gan/dataset/circuit"
   ]
  },
  {
   "cell_type": "markdown",
   "metadata": {
    "id": "X41Ll0WtYqB0"
   },
   "source": [
    "11) setting the version of the torch, torchvision,  torchaudio to become compatible with Style-GAN2ada"
   ]
  },
  {
   "cell_type": "code",
   "execution_count": null,
   "metadata": {},
   "outputs": [],
   "source": [
    "!pip install torch==1.7.1+cu110 torchvision==0.8.2+cu110 torchaudio==0.7.2 -f https://download.pytorch.org/whl/torch_stable.html"
   ]
  },
  {
   "cell_type": "markdown",
   "metadata": {},
   "source": [
    "12) to clear out the newly created dataset in case something went wrong "
   ]
  },
  {
   "cell_type": "code",
   "execution_count": null,
   "metadata": {},
   "outputs": [],
   "source": [
    "!rm -rf /root/.cache/torch_extensions/*"
   ]
  },
  {
   "cell_type": "markdown",
   "metadata": {},
   "source": [
    "13) making all the images to the exact dimensions and color depth"
   ]
  },
  {
   "cell_type": "code",
   "execution_count": null,
   "metadata": {},
   "outputs": [],
   "source": [
    "\n",
    "import os\n",
    "from tqdm.notebook import tqdm\n",
    "from PIL import Image\n",
    "from os import listdir\n",
    "\n",
    "IMAGE_PATH = 'drive/MyDrive/dogs/data/gan/images'\n",
    "files = [f for f in listdir(IMAGE_PATH) if os.path.isfile(join(IMAGE_PATH, f))]\n",
    "\n",
    "base_size = None\n",
    "for file in tqdm(files):\n",
    "    file2 = os.path.join(IMAGE_PATH,file)\n",
    "    img = Image.open(file2)\n",
    "    sz = img.size\n",
    "    if base_size and sz!=base_size:\n",
    "    print(f\"Inconsistant size: {file2}\")\n",
    "    elif img.mode!='RGB':\n",
    "    print(f\"Inconsistant color format: {file2}\")\n",
    "    else:\n",
    "    base_size = sz\n"
   ]
  },
  {
   "cell_type": "markdown",
   "metadata": {},
   "source": [
    "14) Converting all the images to jpg type"
   ]
  },
  {
   "cell_type": "code",
   "execution_count": null,
   "metadata": {},
   "outputs": [],
   "source": [
    "from PIL import Image\n",
    "import os, sys\n",
    "\n",
    "path = \"drive/MyDrive/dogs/data/gan/images\"\n",
    "\n",
    "for item in os.listdir(path):\n",
    "    im = Image.open(path + '/' +  item)\n",
    "    if im.mode != \"RGB\" :\n",
    "        im = im.convert(\"RGB\")\n",
    "    imResize = im.resize((128,128))\n",
    "    imResize.save(path + '/' +  item )\n",
    "\n"
   ]
  },
  {
   "cell_type": "markdown",
   "metadata": {},
   "source": [
    "### Perform Initial Training"
   ]
  },
  {
   "cell_type": "code",
   "execution_count": null,
   "metadata": {},
   "outputs": [],
   "source": [
    "import os\n",
    "\n",
    "# Modify these to suit your needs\n",
    "EXPERIMENTS = \"/content/drive/MyDrive/dogs/data/gan/experiments\"\n",
    "DATA = \"/content/drive/MyDrive/dogs/data/gan/dataset\"\n",
    "SNAP = 20\n",
    "\n",
    "# Build the command and run it\n",
    "cmd = f\"/usr/bin/python3 /content/stylegan2-ada-pytorch/train.py --snap {SNAP} --outdir {EXPERIMENTS} --data {DATA}\"\n",
    "!{cmd}"
   ]
  },
  {
   "cell_type": "markdown",
   "metadata": {},
   "source": [
    "### Resume Training"
   ]
  },
  {
   "cell_type": "markdown",
   "metadata": {},
   "source": [
    "15) removing the last trained network into the experiment folder for continuing the training"
   ]
  },
  {
   "cell_type": "code",
   "execution_count": null,
   "metadata": {},
   "outputs": [],
   "source": [
    "!rm drive/MyDrive/dogs/data/gan/experiments/network-snapshot* drive/MyDrive/dogs/data/gan/experiments"
   ]
  },
  {
   "cell_type": "code",
   "execution_count": null,
   "metadata": {},
   "outputs": [],
   "source": [
    "import os\n",
    "\n",
    "EXPERIMENTS = \"/content/drive/MyDrive/dogs/data/gan/experiments/\"\n",
    "NETWORK = \"network-snapshot-000480.pkl\"\n",
    "RESUME = os.path.join(EXPERIMENTS, NETWORK)\n",
    "DATA = \"/content/drive/MyDrive/dogs/data/gan/dataset\"\n",
    "SNAP = 20\n",
    "\n",
    "cmd = f\"/usr/bin/python3 /content/stylegan2-ada-pytorch/train.py --snap {SNAP} --resume {RESUME} --outdir {EXPERIMENTS} --data {DATA}\"\n",
    "!{cmd}"
   ]
  }
 ],
 "metadata": {
  "accelerator": "GPU",
  "colab": {
   "collapsed_sections": [],
   "name": "colab_gan_train.ipynb",
   "provenance": []
  },
  "kernelspec": {
   "display_name": "Python 3",
   "language": "python",
   "name": "python3"
  },
  "language_info": {
   "codemirror_mode": {
    "name": "ipython",
    "version": 3
   },
   "file_extension": ".py",
   "mimetype": "text/x-python",
   "name": "python",
   "nbconvert_exporter": "python",
   "pygments_lexer": "ipython3",
   "version": "3.8.6"
  }
 },
 "nbformat": 4,
 "nbformat_minor": 1
}
